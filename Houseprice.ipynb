{
  "nbformat": 4,
  "nbformat_minor": 0,
  "metadata": {
    "colab": {
      "provenance": []
    },
    "kernelspec": {
      "name": "python3",
      "display_name": "Python 3"
    },
    "language_info": {
      "name": "python"
    }
  },
  "cells": [
    {
      "cell_type": "code",
      "execution_count": 2,
      "metadata": {
        "id": "2Wc3sEeeQgHo"
      },
      "outputs": [],
      "source": [
        "import pandas as pd\n",
        "import numpy as np"
      ]
    },
    {
      "cell_type": "code",
      "source": [
        "df=pd.read_csv('housepricedata.csv')\n",
        "df.head()"
      ],
      "metadata": {
        "colab": {
          "base_uri": "https://localhost:8080/",
          "height": 206
        },
        "id": "tnOvnfG0Qg4F",
        "outputId": "08faaa89-16e9-4280-fc3d-c9383ab1b7e1"
      },
      "execution_count": 28,
      "outputs": [
        {
          "output_type": "execute_result",
          "data": {
            "text/plain": [
              "   LotArea  OverallQual  OverallCond  TotalBsmtSF  FullBath  HalfBath  \\\n",
              "0     8450            7            5          856         2         1   \n",
              "1     9600            6            8         1262         2         0   \n",
              "2    11250            7            5          920         2         1   \n",
              "3     9550            7            5          756         1         0   \n",
              "4    14260            8            5         1145         2         1   \n",
              "\n",
              "   BedroomAbvGr  TotRmsAbvGrd  Fireplaces  GarageArea  AboveMedianPrice  \n",
              "0             3             8           0         548                 1  \n",
              "1             3             6           1         460                 1  \n",
              "2             3             6           1         608                 1  \n",
              "3             3             7           1         642                 0  \n",
              "4             4             9           1         836                 1  "
            ],
            "text/html": [
              "\n",
              "  <div id=\"df-c5f6ff37-377d-4de2-967d-3e8ac85f04ff\">\n",
              "    <div class=\"colab-df-container\">\n",
              "      <div>\n",
              "<style scoped>\n",
              "    .dataframe tbody tr th:only-of-type {\n",
              "        vertical-align: middle;\n",
              "    }\n",
              "\n",
              "    .dataframe tbody tr th {\n",
              "        vertical-align: top;\n",
              "    }\n",
              "\n",
              "    .dataframe thead th {\n",
              "        text-align: right;\n",
              "    }\n",
              "</style>\n",
              "<table border=\"1\" class=\"dataframe\">\n",
              "  <thead>\n",
              "    <tr style=\"text-align: right;\">\n",
              "      <th></th>\n",
              "      <th>LotArea</th>\n",
              "      <th>OverallQual</th>\n",
              "      <th>OverallCond</th>\n",
              "      <th>TotalBsmtSF</th>\n",
              "      <th>FullBath</th>\n",
              "      <th>HalfBath</th>\n",
              "      <th>BedroomAbvGr</th>\n",
              "      <th>TotRmsAbvGrd</th>\n",
              "      <th>Fireplaces</th>\n",
              "      <th>GarageArea</th>\n",
              "      <th>AboveMedianPrice</th>\n",
              "    </tr>\n",
              "  </thead>\n",
              "  <tbody>\n",
              "    <tr>\n",
              "      <th>0</th>\n",
              "      <td>8450</td>\n",
              "      <td>7</td>\n",
              "      <td>5</td>\n",
              "      <td>856</td>\n",
              "      <td>2</td>\n",
              "      <td>1</td>\n",
              "      <td>3</td>\n",
              "      <td>8</td>\n",
              "      <td>0</td>\n",
              "      <td>548</td>\n",
              "      <td>1</td>\n",
              "    </tr>\n",
              "    <tr>\n",
              "      <th>1</th>\n",
              "      <td>9600</td>\n",
              "      <td>6</td>\n",
              "      <td>8</td>\n",
              "      <td>1262</td>\n",
              "      <td>2</td>\n",
              "      <td>0</td>\n",
              "      <td>3</td>\n",
              "      <td>6</td>\n",
              "      <td>1</td>\n",
              "      <td>460</td>\n",
              "      <td>1</td>\n",
              "    </tr>\n",
              "    <tr>\n",
              "      <th>2</th>\n",
              "      <td>11250</td>\n",
              "      <td>7</td>\n",
              "      <td>5</td>\n",
              "      <td>920</td>\n",
              "      <td>2</td>\n",
              "      <td>1</td>\n",
              "      <td>3</td>\n",
              "      <td>6</td>\n",
              "      <td>1</td>\n",
              "      <td>608</td>\n",
              "      <td>1</td>\n",
              "    </tr>\n",
              "    <tr>\n",
              "      <th>3</th>\n",
              "      <td>9550</td>\n",
              "      <td>7</td>\n",
              "      <td>5</td>\n",
              "      <td>756</td>\n",
              "      <td>1</td>\n",
              "      <td>0</td>\n",
              "      <td>3</td>\n",
              "      <td>7</td>\n",
              "      <td>1</td>\n",
              "      <td>642</td>\n",
              "      <td>0</td>\n",
              "    </tr>\n",
              "    <tr>\n",
              "      <th>4</th>\n",
              "      <td>14260</td>\n",
              "      <td>8</td>\n",
              "      <td>5</td>\n",
              "      <td>1145</td>\n",
              "      <td>2</td>\n",
              "      <td>1</td>\n",
              "      <td>4</td>\n",
              "      <td>9</td>\n",
              "      <td>1</td>\n",
              "      <td>836</td>\n",
              "      <td>1</td>\n",
              "    </tr>\n",
              "  </tbody>\n",
              "</table>\n",
              "</div>\n",
              "      <button class=\"colab-df-convert\" onclick=\"convertToInteractive('df-c5f6ff37-377d-4de2-967d-3e8ac85f04ff')\"\n",
              "              title=\"Convert this dataframe to an interactive table.\"\n",
              "              style=\"display:none;\">\n",
              "        \n",
              "  <svg xmlns=\"http://www.w3.org/2000/svg\" height=\"24px\"viewBox=\"0 0 24 24\"\n",
              "       width=\"24px\">\n",
              "    <path d=\"M0 0h24v24H0V0z\" fill=\"none\"/>\n",
              "    <path d=\"M18.56 5.44l.94 2.06.94-2.06 2.06-.94-2.06-.94-.94-2.06-.94 2.06-2.06.94zm-11 1L8.5 8.5l.94-2.06 2.06-.94-2.06-.94L8.5 2.5l-.94 2.06-2.06.94zm10 10l.94 2.06.94-2.06 2.06-.94-2.06-.94-.94-2.06-.94 2.06-2.06.94z\"/><path d=\"M17.41 7.96l-1.37-1.37c-.4-.4-.92-.59-1.43-.59-.52 0-1.04.2-1.43.59L10.3 9.45l-7.72 7.72c-.78.78-.78 2.05 0 2.83L4 21.41c.39.39.9.59 1.41.59.51 0 1.02-.2 1.41-.59l7.78-7.78 2.81-2.81c.8-.78.8-2.07 0-2.86zM5.41 20L4 18.59l7.72-7.72 1.47 1.35L5.41 20z\"/>\n",
              "  </svg>\n",
              "      </button>\n",
              "      \n",
              "  <style>\n",
              "    .colab-df-container {\n",
              "      display:flex;\n",
              "      flex-wrap:wrap;\n",
              "      gap: 12px;\n",
              "    }\n",
              "\n",
              "    .colab-df-convert {\n",
              "      background-color: #E8F0FE;\n",
              "      border: none;\n",
              "      border-radius: 50%;\n",
              "      cursor: pointer;\n",
              "      display: none;\n",
              "      fill: #1967D2;\n",
              "      height: 32px;\n",
              "      padding: 0 0 0 0;\n",
              "      width: 32px;\n",
              "    }\n",
              "\n",
              "    .colab-df-convert:hover {\n",
              "      background-color: #E2EBFA;\n",
              "      box-shadow: 0px 1px 2px rgba(60, 64, 67, 0.3), 0px 1px 3px 1px rgba(60, 64, 67, 0.15);\n",
              "      fill: #174EA6;\n",
              "    }\n",
              "\n",
              "    [theme=dark] .colab-df-convert {\n",
              "      background-color: #3B4455;\n",
              "      fill: #D2E3FC;\n",
              "    }\n",
              "\n",
              "    [theme=dark] .colab-df-convert:hover {\n",
              "      background-color: #434B5C;\n",
              "      box-shadow: 0px 1px 3px 1px rgba(0, 0, 0, 0.15);\n",
              "      filter: drop-shadow(0px 1px 2px rgba(0, 0, 0, 0.3));\n",
              "      fill: #FFFFFF;\n",
              "    }\n",
              "  </style>\n",
              "\n",
              "      <script>\n",
              "        const buttonEl =\n",
              "          document.querySelector('#df-c5f6ff37-377d-4de2-967d-3e8ac85f04ff button.colab-df-convert');\n",
              "        buttonEl.style.display =\n",
              "          google.colab.kernel.accessAllowed ? 'block' : 'none';\n",
              "\n",
              "        async function convertToInteractive(key) {\n",
              "          const element = document.querySelector('#df-c5f6ff37-377d-4de2-967d-3e8ac85f04ff');\n",
              "          const dataTable =\n",
              "            await google.colab.kernel.invokeFunction('convertToInteractive',\n",
              "                                                     [key], {});\n",
              "          if (!dataTable) return;\n",
              "\n",
              "          const docLinkHtml = 'Like what you see? Visit the ' +\n",
              "            '<a target=\"_blank\" href=https://colab.research.google.com/notebooks/data_table.ipynb>data table notebook</a>'\n",
              "            + ' to learn more about interactive tables.';\n",
              "          element.innerHTML = '';\n",
              "          dataTable['output_type'] = 'display_data';\n",
              "          await google.colab.output.renderOutput(dataTable, element);\n",
              "          const docLink = document.createElement('div');\n",
              "          docLink.innerHTML = docLinkHtml;\n",
              "          element.appendChild(docLink);\n",
              "        }\n",
              "      </script>\n",
              "    </div>\n",
              "  </div>\n",
              "  "
            ]
          },
          "metadata": {},
          "execution_count": 28
        }
      ]
    },
    {
      "cell_type": "code",
      "source": [
        "#Lot Area (in sq ft)\n",
        "#Overall Quality (scale from 1 to 10)\n",
        "#Overall Condition (scale from 1 to 10)\n",
        "#Total Basement Area (in sq ft)\n",
        "#Number of Full Bathrooms\n",
        "#Number of Half Bathrooms\n",
        "#Number of Bedrooms above ground\n",
        "#Total Number of Rooms above ground\n",
        "#Number of Fireplaces\n",
        "#Garage Area (in sq ft)"
      ],
      "metadata": {
        "id": "EC4aCh-nXEXL"
      },
      "execution_count": null,
      "outputs": []
    },
    {
      "cell_type": "code",
      "source": [
        "# Checking for nullvalues\n",
        "#I can see no null values here .\n",
        "df.isnull().sum()"
      ],
      "metadata": {
        "colab": {
          "base_uri": "https://localhost:8080/"
        },
        "id": "Hj0inFhHQ15G",
        "outputId": "ea2a5bf3-de61-4c5c-ce7b-f4f46f364e47"
      },
      "execution_count": 29,
      "outputs": [
        {
          "output_type": "execute_result",
          "data": {
            "text/plain": [
              "LotArea             0\n",
              "OverallQual         0\n",
              "OverallCond         0\n",
              "TotalBsmtSF         0\n",
              "FullBath            0\n",
              "HalfBath            0\n",
              "BedroomAbvGr        0\n",
              "TotRmsAbvGrd        0\n",
              "Fireplaces          0\n",
              "GarageArea          0\n",
              "AboveMedianPrice    0\n",
              "dtype: int64"
            ]
          },
          "metadata": {},
          "execution_count": 29
        }
      ]
    },
    {
      "cell_type": "code",
      "source": [
        "df.info()"
      ],
      "metadata": {
        "colab": {
          "base_uri": "https://localhost:8080/"
        },
        "id": "tDw_8oMnQ3zW",
        "outputId": "afd8ccb7-4441-42dc-db9c-489fcd997a14"
      },
      "execution_count": 30,
      "outputs": [
        {
          "output_type": "stream",
          "name": "stdout",
          "text": [
            "<class 'pandas.core.frame.DataFrame'>\n",
            "RangeIndex: 1460 entries, 0 to 1459\n",
            "Data columns (total 11 columns):\n",
            " #   Column            Non-Null Count  Dtype\n",
            "---  ------            --------------  -----\n",
            " 0   LotArea           1460 non-null   int64\n",
            " 1   OverallQual       1460 non-null   int64\n",
            " 2   OverallCond       1460 non-null   int64\n",
            " 3   TotalBsmtSF       1460 non-null   int64\n",
            " 4   FullBath          1460 non-null   int64\n",
            " 5   HalfBath          1460 non-null   int64\n",
            " 6   BedroomAbvGr      1460 non-null   int64\n",
            " 7   TotRmsAbvGrd      1460 non-null   int64\n",
            " 8   Fireplaces        1460 non-null   int64\n",
            " 9   GarageArea        1460 non-null   int64\n",
            " 10  AboveMedianPrice  1460 non-null   int64\n",
            "dtypes: int64(11)\n",
            "memory usage: 125.6 KB\n"
          ]
        }
      ]
    },
    {
      "cell_type": "code",
      "source": [
        "df.hist(figsize=(12,12))"
      ],
      "metadata": {
        "colab": {
          "base_uri": "https://localhost:8080/",
          "height": 953
        },
        "id": "e_PYtnnhQ6Eo",
        "outputId": "400fa301-d39e-42e4-b9e6-7dc1ea437cea"
      },
      "execution_count": 31,
      "outputs": [
        {
          "output_type": "execute_result",
          "data": {
            "text/plain": [
              "array([[<matplotlib.axes._subplots.AxesSubplot object at 0x7fee91b935e0>,\n",
              "        <matplotlib.axes._subplots.AxesSubplot object at 0x7fee8f05f370>,\n",
              "        <matplotlib.axes._subplots.AxesSubplot object at 0x7fee8f064970>],\n",
              "       [<matplotlib.axes._subplots.AxesSubplot object at 0x7fee9179f130>,\n",
              "        <matplotlib.axes._subplots.AxesSubplot object at 0x7fee917d17f0>,\n",
              "        <matplotlib.axes._subplots.AxesSubplot object at 0x7fee91778e50>],\n",
              "       [<matplotlib.axes._subplots.AxesSubplot object at 0x7fee91778f40>,\n",
              "        <matplotlib.axes._subplots.AxesSubplot object at 0x7fee91729700>,\n",
              "        <matplotlib.axes._subplots.AxesSubplot object at 0x7fee917094f0>],\n",
              "       [<matplotlib.axes._subplots.AxesSubplot object at 0x7fee916b3c10>,\n",
              "        <matplotlib.axes._subplots.AxesSubplot object at 0x7fee9166b370>,\n",
              "        <matplotlib.axes._subplots.AxesSubplot object at 0x7fee916959d0>]],\n",
              "      dtype=object)"
            ]
          },
          "metadata": {},
          "execution_count": 31
        },
        {
          "output_type": "display_data",
          "data": {
            "text/plain": [
              "<Figure size 864x864 with 12 Axes>"
            ],
            "image/png": "[encoded data removed]"
          },
          "metadata": {
            "needs_background": "light"
          }
        }
      ]
    },
    {
      "cell_type": "code",
      "source": [
        "\n",
        "#Converting dataframe in to array. \n",
        "df=df.values\n",
        "df"
      ],
      "metadata": {
        "colab": {
          "base_uri": "https://localhost:8080/"
        },
        "id": "Lmgd1iLXQ-Tb",
        "outputId": "8d070bf6-2775-4b24-e9ff-cf773afcaa49"
      },
      "execution_count": 32,
      "outputs": [
        {
          "output_type": "execute_result",
          "data": {
            "text/plain": [
              "array([[ 8450,     7,     5, ...,     0,   548,     1],\n",
              "       [ 9600,     6,     8, ...,     1,   460,     1],\n",
              "       [11250,     7,     5, ...,     1,   608,     1],\n",
              "       ...,\n",
              "       [ 9042,     7,     9, ...,     2,   252,     1],\n",
              "       [ 9717,     5,     6, ...,     0,   240,     0],\n",
              "       [ 9937,     5,     6, ...,     0,   276,     0]])"
            ]
          },
          "metadata": {},
          "execution_count": 32
        }
      ]
    },
    {
      "cell_type": "code",
      "source": [
        "\n",
        "#Spliting the dataset x and y\n",
        "x=df[:,0:10]\n",
        "x"
      ],
      "metadata": {
        "colab": {
          "base_uri": "https://localhost:8080/"
        },
        "id": "1rjNJG0lRAcT",
        "outputId": "aedd51b7-173d-44fb-f3c6-863a39c2c667"
      },
      "execution_count": 33,
      "outputs": [
        {
          "output_type": "execute_result",
          "data": {
            "text/plain": [
              "array([[ 8450,     7,     5, ...,     8,     0,   548],\n",
              "       [ 9600,     6,     8, ...,     6,     1,   460],\n",
              "       [11250,     7,     5, ...,     6,     1,   608],\n",
              "       ...,\n",
              "       [ 9042,     7,     9, ...,     9,     2,   252],\n",
              "       [ 9717,     5,     6, ...,     5,     0,   240],\n",
              "       [ 9937,     5,     6, ...,     6,     0,   276]])"
            ]
          },
          "metadata": {},
          "execution_count": 33
        }
      ]
    },
    {
      "cell_type": "code",
      "source": [
        "y=df[:,10]\n",
        "y"
      ],
      "metadata": {
        "colab": {
          "base_uri": "https://localhost:8080/"
        },
        "id": "aXfICxcPRC0l",
        "outputId": "57cb322f-8f3d-4657-dfa1-50b42f2ddf94"
      },
      "execution_count": 34,
      "outputs": [
        {
          "output_type": "execute_result",
          "data": {
            "text/plain": [
              "array([1, 1, 1, ..., 1, 0, 0])"
            ]
          },
          "metadata": {},
          "execution_count": 34
        }
      ]
    },
    {
      "cell_type": "code",
      "source": [
        "from sklearn import preprocessing\n"
      ],
      "metadata": {
        "id": "A4ZeWwF7REul"
      },
      "execution_count": 35,
      "outputs": []
    },
    {
      "cell_type": "code",
      "source": [
        "#I have used a function called the min-max scaler, which scales the dataset so that all the input features lie between 0 and 1.\n",
        "min_max_scaler = preprocessing.MinMaxScaler()\n",
        "x_scale = min_max_scaler.fit_transform(x)"
      ],
      "metadata": {
        "id": "OKy6P9RQRGyO"
      },
      "execution_count": 36,
      "outputs": []
    },
    {
      "cell_type": "code",
      "source": [
        "from sklearn.model_selection import train_test_split\n",
        "X_train, X_val_and_test, Y_train, Y_val_and_test = train_test_split(x_scale, y, test_size=0.3)\n",
        "X_val, X_test, Y_val, Y_test = train_test_split(X_val_and_test, Y_val_and_test, test_size=0.5)\n",
        "print(X_train.shape, X_val.shape, X_test.shape, Y_train.shape, Y_val.shape, Y_test.shape)"
      ],
      "metadata": {
        "colab": {
          "base_uri": "https://localhost:8080/"
        },
        "id": "vzlwzz9fRI2A",
        "outputId": "37c656d7-c485-4c89-f639-49c4950497b4"
      },
      "execution_count": 37,
      "outputs": [
        {
          "output_type": "stream",
          "name": "stdout",
          "text": [
            "(1022, 10) (219, 10) (219, 10) (1022,) (219,) (219,)\n"
          ]
        }
      ]
    },
    {
      "cell_type": "code",
      "source": [
        "\n",
        "#I have used Sequential model.\n",
        "from keras.models import Sequential\n",
        "from keras.layers import Dense\n",
        "#I have used the Sequential model, which means that i merely need to describe the layers above in sequence.\n",
        "# I have stored my model in the variable ann, and I have describe it sequentially (layer by layer) in between the square brackets.\n",
        "ann=Sequential()\n",
        "# First layer  as a dense layer with 32 neurons, ReLU activation and Dense’ refers to a fully-connected layer, which is what we will be using.Denseann.add(Dense(units=32,activation='relu'))\n",
        "ann.add(Dense(units=32,activation='relu',input_shape=(10,)))\n",
        "#second layer is also a dense layer with 32 neurons, ReLU activation.\n",
        "ann.add(Dense(units=32,activation='relu'))\n",
        "#third layer is a dense layer with 1 neuron, sigmoid activation.\n",
        "ann.add(Dense(units=1,activation='sigmoid'))\n"
      ],
      "metadata": {
        "id": "T-hLAaDsRLA3"
      },
      "execution_count": 38,
      "outputs": []
    },
    {
      "cell_type": "code",
      "source": [
        "ann.compile(optimizer='sgd',\n",
        "              loss='binary_crossentropy',\n",
        "              metrics=['accuracy'])"
      ],
      "metadata": {
        "id": "_pecF2cyRd86"
      },
      "execution_count": 39,
      "outputs": []
    },
    {
      "cell_type": "code",
      "source": [
        "#‘sgd’ refers to stochastic gradient descent (over here, it refers to mini-batch gradient descent).\n",
        "#The loss function for outputs that take the values 1 or 0 is called binary cross entropy.\n",
        "history = ann.fit(X_train, Y_train,\n",
        "          batch_size=32, epochs=100,\n",
        "          validation_data=(X_val, Y_val))"
      ],
      "metadata": {
        "colab": {
          "base_uri": "https://localhost:8080/"
        },
        "id": "u_zWXmkVRhXp",
        "outputId": "2370c64c-3406-4e71-cbc2-bd0a4f3189e1"
      },
      "execution_count": 40,
      "outputs": [
        {
          "output_type": "stream",
          "name": "stdout",
          "text": [
            "Epoch 1/100\n",
            "32/32 [==============================] - 1s 8ms/step - loss: 0.7045 - accuracy: 0.5010 - val_loss: 0.6965 - val_accuracy: 0.4840\n",
            "Epoch 2/100\n",
            "32/32 [==============================] - 0s 3ms/step - loss: 0.6884 - accuracy: 0.5000 - val_loss: 0.6841 - val_accuracy: 0.4840\n",
            "Epoch 3/100\n",
            "32/32 [==============================] - 0s 3ms/step - loss: 0.6789 - accuracy: 0.5519 - val_loss: 0.6756 - val_accuracy: 0.6393\n",
            "Epoch 4/100\n",
            "32/32 [==============================] - 0s 3ms/step - loss: 0.6720 - accuracy: 0.6967 - val_loss: 0.6693 - val_accuracy: 0.7534\n",
            "Epoch 5/100\n",
            "32/32 [==============================] - 0s 4ms/step - loss: 0.6663 - accuracy: 0.7515 - val_loss: 0.6634 - val_accuracy: 0.7717\n",
            "Epoch 6/100\n",
            "32/32 [==============================] - 0s 3ms/step - loss: 0.6610 - accuracy: 0.7642 - val_loss: 0.6580 - val_accuracy: 0.7808\n",
            "Epoch 7/100\n",
            "32/32 [==============================] - 0s 4ms/step - loss: 0.6558 - accuracy: 0.7798 - val_loss: 0.6526 - val_accuracy: 0.7854\n",
            "Epoch 8/100\n",
            "32/32 [==============================] - 0s 4ms/step - loss: 0.6504 - accuracy: 0.7916 - val_loss: 0.6471 - val_accuracy: 0.7991\n",
            "Epoch 9/100\n",
            "32/32 [==============================] - 0s 3ms/step - loss: 0.6450 - accuracy: 0.7965 - val_loss: 0.6417 - val_accuracy: 0.8128\n",
            "Epoch 10/100\n",
            "32/32 [==============================] - 0s 4ms/step - loss: 0.6396 - accuracy: 0.8004 - val_loss: 0.6359 - val_accuracy: 0.8356\n",
            "Epoch 11/100\n",
            "32/32 [==============================] - 0s 3ms/step - loss: 0.6337 - accuracy: 0.8072 - val_loss: 0.6300 - val_accuracy: 0.8265\n",
            "Epoch 12/100\n",
            "32/32 [==============================] - 0s 3ms/step - loss: 0.6278 - accuracy: 0.8112 - val_loss: 0.6238 - val_accuracy: 0.8356\n",
            "Epoch 13/100\n",
            "32/32 [==============================] - 0s 3ms/step - loss: 0.6215 - accuracy: 0.8102 - val_loss: 0.6173 - val_accuracy: 0.8402\n",
            "Epoch 14/100\n",
            "32/32 [==============================] - 0s 3ms/step - loss: 0.6149 - accuracy: 0.8141 - val_loss: 0.6103 - val_accuracy: 0.8539\n",
            "Epoch 15/100\n",
            "32/32 [==============================] - 0s 3ms/step - loss: 0.6082 - accuracy: 0.8170 - val_loss: 0.6031 - val_accuracy: 0.8539\n",
            "Epoch 16/100\n",
            "32/32 [==============================] - 0s 3ms/step - loss: 0.6011 - accuracy: 0.8209 - val_loss: 0.5957 - val_accuracy: 0.8539\n",
            "Epoch 17/100\n",
            "32/32 [==============================] - 0s 3ms/step - loss: 0.5937 - accuracy: 0.8258 - val_loss: 0.5878 - val_accuracy: 0.8584\n",
            "Epoch 18/100\n",
            "32/32 [==============================] - 0s 3ms/step - loss: 0.5859 - accuracy: 0.8278 - val_loss: 0.5797 - val_accuracy: 0.8539\n",
            "Epoch 19/100\n",
            "32/32 [==============================] - 0s 3ms/step - loss: 0.5780 - accuracy: 0.8268 - val_loss: 0.5712 - val_accuracy: 0.8539\n",
            "Epoch 20/100\n",
            "32/32 [==============================] - 0s 3ms/step - loss: 0.5698 - accuracy: 0.8278 - val_loss: 0.5625 - val_accuracy: 0.8630\n",
            "Epoch 21/100\n",
            "32/32 [==============================] - 0s 3ms/step - loss: 0.5609 - accuracy: 0.8297 - val_loss: 0.5535 - val_accuracy: 0.8630\n",
            "Epoch 22/100\n",
            "32/32 [==============================] - 0s 3ms/step - loss: 0.5522 - accuracy: 0.8376 - val_loss: 0.5444 - val_accuracy: 0.8767\n",
            "Epoch 23/100\n",
            "32/32 [==============================] - 0s 3ms/step - loss: 0.5432 - accuracy: 0.8346 - val_loss: 0.5348 - val_accuracy: 0.8630\n",
            "Epoch 24/100\n",
            "32/32 [==============================] - 0s 3ms/step - loss: 0.5341 - accuracy: 0.8405 - val_loss: 0.5253 - val_accuracy: 0.8767\n",
            "Epoch 25/100\n",
            "32/32 [==============================] - 0s 3ms/step - loss: 0.5247 - accuracy: 0.8425 - val_loss: 0.5157 - val_accuracy: 0.8858\n",
            "Epoch 26/100\n",
            "32/32 [==============================] - 0s 3ms/step - loss: 0.5156 - accuracy: 0.8415 - val_loss: 0.5060 - val_accuracy: 0.8813\n",
            "Epoch 27/100\n",
            "32/32 [==============================] - 0s 3ms/step - loss: 0.5062 - accuracy: 0.8454 - val_loss: 0.4961 - val_accuracy: 0.8767\n",
            "Epoch 28/100\n",
            "32/32 [==============================] - 0s 3ms/step - loss: 0.4968 - accuracy: 0.8425 - val_loss: 0.4866 - val_accuracy: 0.8813\n",
            "Epoch 29/100\n",
            "32/32 [==============================] - 0s 3ms/step - loss: 0.4878 - accuracy: 0.8454 - val_loss: 0.4770 - val_accuracy: 0.8813\n",
            "Epoch 30/100\n",
            "32/32 [==============================] - 0s 3ms/step - loss: 0.4786 - accuracy: 0.8493 - val_loss: 0.4674 - val_accuracy: 0.8813\n",
            "Epoch 31/100\n",
            "32/32 [==============================] - 0s 3ms/step - loss: 0.4695 - accuracy: 0.8493 - val_loss: 0.4581 - val_accuracy: 0.8858\n",
            "Epoch 32/100\n",
            "32/32 [==============================] - 0s 3ms/step - loss: 0.4607 - accuracy: 0.8474 - val_loss: 0.4490 - val_accuracy: 0.8904\n",
            "Epoch 33/100\n",
            "32/32 [==============================] - 0s 3ms/step - loss: 0.4520 - accuracy: 0.8523 - val_loss: 0.4403 - val_accuracy: 0.8767\n",
            "Epoch 34/100\n",
            "32/32 [==============================] - 0s 3ms/step - loss: 0.4438 - accuracy: 0.8532 - val_loss: 0.4317 - val_accuracy: 0.8950\n",
            "Epoch 35/100\n",
            "32/32 [==============================] - 0s 3ms/step - loss: 0.4359 - accuracy: 0.8562 - val_loss: 0.4238 - val_accuracy: 0.8904\n",
            "Epoch 36/100\n",
            "32/32 [==============================] - 0s 3ms/step - loss: 0.4280 - accuracy: 0.8454 - val_loss: 0.4155 - val_accuracy: 0.8858\n",
            "Epoch 37/100\n",
            "32/32 [==============================] - 0s 3ms/step - loss: 0.4208 - accuracy: 0.8552 - val_loss: 0.4079 - val_accuracy: 0.8858\n",
            "Epoch 38/100\n",
            "32/32 [==============================] - 0s 3ms/step - loss: 0.4131 - accuracy: 0.8562 - val_loss: 0.4011 - val_accuracy: 0.8950\n",
            "Epoch 39/100\n",
            "32/32 [==============================] - 0s 3ms/step - loss: 0.4070 - accuracy: 0.8542 - val_loss: 0.3938 - val_accuracy: 0.8950\n",
            "Epoch 40/100\n",
            "32/32 [==============================] - 0s 3ms/step - loss: 0.4002 - accuracy: 0.8581 - val_loss: 0.3872 - val_accuracy: 0.8904\n",
            "Epoch 41/100\n",
            "32/32 [==============================] - 0s 4ms/step - loss: 0.3942 - accuracy: 0.8571 - val_loss: 0.3812 - val_accuracy: 0.8950\n",
            "Epoch 42/100\n",
            "32/32 [==============================] - 0s 3ms/step - loss: 0.3891 - accuracy: 0.8571 - val_loss: 0.3753 - val_accuracy: 0.8950\n",
            "Epoch 43/100\n",
            "32/32 [==============================] - 0s 3ms/step - loss: 0.3833 - accuracy: 0.8571 - val_loss: 0.3696 - val_accuracy: 0.8858\n",
            "Epoch 44/100\n",
            "32/32 [==============================] - 0s 3ms/step - loss: 0.3778 - accuracy: 0.8601 - val_loss: 0.3643 - val_accuracy: 0.8858\n",
            "Epoch 45/100\n",
            "32/32 [==============================] - 0s 3ms/step - loss: 0.3733 - accuracy: 0.8581 - val_loss: 0.3596 - val_accuracy: 0.8858\n",
            "Epoch 46/100\n",
            "32/32 [==============================] - 0s 3ms/step - loss: 0.3686 - accuracy: 0.8601 - val_loss: 0.3547 - val_accuracy: 0.8904\n",
            "Epoch 47/100\n",
            "32/32 [==============================] - 0s 3ms/step - loss: 0.3642 - accuracy: 0.8611 - val_loss: 0.3504 - val_accuracy: 0.8813\n",
            "Epoch 48/100\n",
            "32/32 [==============================] - 0s 3ms/step - loss: 0.3600 - accuracy: 0.8640 - val_loss: 0.3463 - val_accuracy: 0.8858\n",
            "Epoch 49/100\n",
            "32/32 [==============================] - 0s 3ms/step - loss: 0.3558 - accuracy: 0.8630 - val_loss: 0.3426 - val_accuracy: 0.8858\n",
            "Epoch 50/100\n",
            "32/32 [==============================] - 0s 3ms/step - loss: 0.3521 - accuracy: 0.8630 - val_loss: 0.3390 - val_accuracy: 0.8813\n",
            "Epoch 51/100\n",
            "32/32 [==============================] - 0s 3ms/step - loss: 0.3488 - accuracy: 0.8679 - val_loss: 0.3356 - val_accuracy: 0.8813\n",
            "Epoch 52/100\n",
            "32/32 [==============================] - 0s 3ms/step - loss: 0.3456 - accuracy: 0.8640 - val_loss: 0.3323 - val_accuracy: 0.8904\n",
            "Epoch 53/100\n",
            "32/32 [==============================] - 0s 3ms/step - loss: 0.3420 - accuracy: 0.8679 - val_loss: 0.3300 - val_accuracy: 0.8813\n",
            "Epoch 54/100\n",
            "32/32 [==============================] - 0s 3ms/step - loss: 0.3400 - accuracy: 0.8689 - val_loss: 0.3261 - val_accuracy: 0.8813\n",
            "Epoch 55/100\n",
            "32/32 [==============================] - 0s 3ms/step - loss: 0.3369 - accuracy: 0.8689 - val_loss: 0.3240 - val_accuracy: 0.8904\n",
            "Epoch 56/100\n",
            "32/32 [==============================] - 0s 3ms/step - loss: 0.3342 - accuracy: 0.8728 - val_loss: 0.3211 - val_accuracy: 0.8904\n",
            "Epoch 57/100\n",
            "32/32 [==============================] - 0s 3ms/step - loss: 0.3313 - accuracy: 0.8738 - val_loss: 0.3184 - val_accuracy: 0.8904\n",
            "Epoch 58/100\n",
            "32/32 [==============================] - 0s 4ms/step - loss: 0.3293 - accuracy: 0.8708 - val_loss: 0.3160 - val_accuracy: 0.8858\n",
            "Epoch 59/100\n",
            "32/32 [==============================] - 0s 3ms/step - loss: 0.3268 - accuracy: 0.8738 - val_loss: 0.3139 - val_accuracy: 0.8904\n",
            "Epoch 60/100\n",
            "32/32 [==============================] - 0s 3ms/step - loss: 0.3244 - accuracy: 0.8748 - val_loss: 0.3120 - val_accuracy: 0.8813\n",
            "Epoch 61/100\n",
            "32/32 [==============================] - 0s 3ms/step - loss: 0.3230 - accuracy: 0.8757 - val_loss: 0.3100 - val_accuracy: 0.8813\n",
            "Epoch 62/100\n",
            "32/32 [==============================] - 0s 3ms/step - loss: 0.3206 - accuracy: 0.8738 - val_loss: 0.3079 - val_accuracy: 0.8858\n",
            "Epoch 63/100\n",
            "32/32 [==============================] - 0s 3ms/step - loss: 0.3189 - accuracy: 0.8748 - val_loss: 0.3062 - val_accuracy: 0.8858\n",
            "Epoch 64/100\n",
            "32/32 [==============================] - 0s 3ms/step - loss: 0.3168 - accuracy: 0.8757 - val_loss: 0.3046 - val_accuracy: 0.8858\n",
            "Epoch 65/100\n",
            "32/32 [==============================] - 0s 3ms/step - loss: 0.3146 - accuracy: 0.8796 - val_loss: 0.3041 - val_accuracy: 0.8858\n",
            "Epoch 66/100\n",
            "32/32 [==============================] - 0s 3ms/step - loss: 0.3136 - accuracy: 0.8806 - val_loss: 0.3013 - val_accuracy: 0.8813\n",
            "Epoch 67/100\n",
            "32/32 [==============================] - 0s 3ms/step - loss: 0.3121 - accuracy: 0.8787 - val_loss: 0.3000 - val_accuracy: 0.8858\n",
            "Epoch 68/100\n",
            "32/32 [==============================] - 0s 3ms/step - loss: 0.3103 - accuracy: 0.8806 - val_loss: 0.2987 - val_accuracy: 0.8904\n",
            "Epoch 69/100\n",
            "32/32 [==============================] - 0s 3ms/step - loss: 0.3091 - accuracy: 0.8787 - val_loss: 0.2970 - val_accuracy: 0.8813\n",
            "Epoch 70/100\n",
            "32/32 [==============================] - 0s 3ms/step - loss: 0.3077 - accuracy: 0.8806 - val_loss: 0.2961 - val_accuracy: 0.8858\n",
            "Epoch 71/100\n",
            "32/32 [==============================] - 0s 3ms/step - loss: 0.3067 - accuracy: 0.8796 - val_loss: 0.2949 - val_accuracy: 0.8858\n",
            "Epoch 72/100\n",
            "32/32 [==============================] - 0s 3ms/step - loss: 0.3052 - accuracy: 0.8816 - val_loss: 0.2935 - val_accuracy: 0.8858\n",
            "Epoch 73/100\n",
            "32/32 [==============================] - 0s 3ms/step - loss: 0.3035 - accuracy: 0.8836 - val_loss: 0.2923 - val_accuracy: 0.8813\n",
            "Epoch 74/100\n",
            "32/32 [==============================] - 0s 3ms/step - loss: 0.3026 - accuracy: 0.8845 - val_loss: 0.2910 - val_accuracy: 0.8858\n",
            "Epoch 75/100\n",
            "32/32 [==============================] - 0s 3ms/step - loss: 0.3013 - accuracy: 0.8816 - val_loss: 0.2900 - val_accuracy: 0.8813\n",
            "Epoch 76/100\n",
            "32/32 [==============================] - 0s 3ms/step - loss: 0.2998 - accuracy: 0.8836 - val_loss: 0.2893 - val_accuracy: 0.8858\n",
            "Epoch 77/100\n",
            "32/32 [==============================] - 0s 3ms/step - loss: 0.2993 - accuracy: 0.8816 - val_loss: 0.2880 - val_accuracy: 0.8858\n",
            "Epoch 78/100\n",
            "32/32 [==============================] - 0s 3ms/step - loss: 0.2983 - accuracy: 0.8845 - val_loss: 0.2872 - val_accuracy: 0.8858\n",
            "Epoch 79/100\n",
            "32/32 [==============================] - 0s 3ms/step - loss: 0.2968 - accuracy: 0.8855 - val_loss: 0.2860 - val_accuracy: 0.8813\n",
            "Epoch 80/100\n",
            "32/32 [==============================] - 0s 3ms/step - loss: 0.2964 - accuracy: 0.8836 - val_loss: 0.2851 - val_accuracy: 0.8813\n",
            "Epoch 81/100\n",
            "32/32 [==============================] - 0s 3ms/step - loss: 0.2952 - accuracy: 0.8826 - val_loss: 0.2842 - val_accuracy: 0.8858\n",
            "Epoch 82/100\n",
            "32/32 [==============================] - 0s 3ms/step - loss: 0.2940 - accuracy: 0.8865 - val_loss: 0.2838 - val_accuracy: 0.8904\n",
            "Epoch 83/100\n",
            "32/32 [==============================] - 0s 3ms/step - loss: 0.2927 - accuracy: 0.8826 - val_loss: 0.2835 - val_accuracy: 0.8904\n",
            "Epoch 84/100\n",
            "32/32 [==============================] - 0s 3ms/step - loss: 0.2921 - accuracy: 0.8914 - val_loss: 0.2818 - val_accuracy: 0.8858\n",
            "Epoch 85/100\n",
            "32/32 [==============================] - 0s 3ms/step - loss: 0.2914 - accuracy: 0.8904 - val_loss: 0.2809 - val_accuracy: 0.8858\n",
            "Epoch 86/100\n",
            "32/32 [==============================] - 0s 3ms/step - loss: 0.2892 - accuracy: 0.8836 - val_loss: 0.2824 - val_accuracy: 0.8858\n",
            "Epoch 87/100\n",
            "32/32 [==============================] - 0s 3ms/step - loss: 0.2897 - accuracy: 0.8904 - val_loss: 0.2816 - val_accuracy: 0.8904\n",
            "Epoch 88/100\n",
            "32/32 [==============================] - 0s 3ms/step - loss: 0.2892 - accuracy: 0.8894 - val_loss: 0.2787 - val_accuracy: 0.8858\n",
            "Epoch 89/100\n",
            "32/32 [==============================] - 0s 4ms/step - loss: 0.2862 - accuracy: 0.8894 - val_loss: 0.2809 - val_accuracy: 0.8858\n",
            "Epoch 90/100\n",
            "32/32 [==============================] - 0s 3ms/step - loss: 0.2874 - accuracy: 0.8875 - val_loss: 0.2772 - val_accuracy: 0.8858\n",
            "Epoch 91/100\n",
            "32/32 [==============================] - 0s 3ms/step - loss: 0.2865 - accuracy: 0.8904 - val_loss: 0.2765 - val_accuracy: 0.8858\n",
            "Epoch 92/100\n",
            "32/32 [==============================] - 0s 3ms/step - loss: 0.2852 - accuracy: 0.8885 - val_loss: 0.2760 - val_accuracy: 0.8858\n",
            "Epoch 93/100\n",
            "32/32 [==============================] - 0s 3ms/step - loss: 0.2846 - accuracy: 0.8894 - val_loss: 0.2755 - val_accuracy: 0.8858\n",
            "Epoch 94/100\n",
            "32/32 [==============================] - 0s 3ms/step - loss: 0.2835 - accuracy: 0.8885 - val_loss: 0.2765 - val_accuracy: 0.8858\n",
            "Epoch 95/100\n",
            "32/32 [==============================] - 0s 3ms/step - loss: 0.2828 - accuracy: 0.8885 - val_loss: 0.2742 - val_accuracy: 0.8858\n",
            "Epoch 96/100\n",
            "32/32 [==============================] - 0s 4ms/step - loss: 0.2820 - accuracy: 0.8943 - val_loss: 0.2732 - val_accuracy: 0.8904\n",
            "Epoch 97/100\n",
            "32/32 [==============================] - 0s 3ms/step - loss: 0.2816 - accuracy: 0.8924 - val_loss: 0.2724 - val_accuracy: 0.8904\n",
            "Epoch 98/100\n",
            "32/32 [==============================] - 0s 4ms/step - loss: 0.2812 - accuracy: 0.8924 - val_loss: 0.2719 - val_accuracy: 0.8904\n",
            "Epoch 99/100\n",
            "32/32 [==============================] - 0s 3ms/step - loss: 0.2805 - accuracy: 0.8894 - val_loss: 0.2712 - val_accuracy: 0.8950\n",
            "Epoch 100/100\n",
            "32/32 [==============================] - 0s 3ms/step - loss: 0.2800 - accuracy: 0.8943 - val_loss: 0.2707 - val_accuracy: 0.8904\n"
          ]
        }
      ]
    },
    {
      "cell_type": "code",
      "source": [
        "#The reason why I have given index 1 after the model.evaluate function is because the function returns the loss as the first element and the accuracy as the second element.\n",
        "#To only output the accuracy, simply access the second element (which is indexed by 1, since the first element starts its indexing from 0).\n",
        "ann.evaluate(X_val, Y_val)[1]\n"
      ],
      "metadata": {
        "colab": {
          "base_uri": "https://localhost:8080/"
        },
        "id": "iDB5COd4RjUC",
        "outputId": "15fa2a62-58fc-4590-d754-d9f50328fadd"
      },
      "execution_count": 41,
      "outputs": [
        {
          "output_type": "stream",
          "name": "stdout",
          "text": [
            "7/7 [==============================] - 0s 3ms/step - loss: 0.2707 - accuracy: 0.8904\n"
          ]
        },
        {
          "output_type": "execute_result",
          "data": {
            "text/plain": [
              "0.8904109597206116"
            ]
          },
          "metadata": {},
          "execution_count": 41
        }
      ]
    },
    {
      "cell_type": "code",
      "source": [
        "#Visualizing Loss and Accuracy\n",
        "import matplotlib.pyplot as plt"
      ],
      "metadata": {
        "id": "CHOrA1gVRtRu"
      },
      "execution_count": 42,
      "outputs": []
    },
    {
      "cell_type": "code",
      "source": [
        "#Here,I have visualize the training loss and validation loss.\n",
        "plt.plot(history.history['loss'])\n",
        "plt.plot(history .history['val_loss'])\n",
        "plt.title('Model loss')\n",
        "plt.ylabel('Loss')\n",
        "plt.xlabel('Epoch')\n",
        "plt.legend(['Train', 'Val'], loc='upper right')\n",
        "plt.show()"
      ],
      "metadata": {
        "colab": {
          "base_uri": "https://localhost:8080/",
          "height": 295
        },
        "id": "QTDeFVGgRvxP",
        "outputId": "c60bb332-fb21-4c6c-f2a1-84724f94e5b7"
      },
      "execution_count": 43,
      "outputs": [
        {
          "output_type": "display_data",
          "data": {
            "text/plain": [
              "<Figure size 432x288 with 1 Axes>"
            ],
            "image/png": "[encoded data removed]"
          },
          "metadata": {
            "needs_background": "light"
          }
        }
      ]
    },
    {
      "cell_type": "code",
      "source": [
        "#Here, I have ploted traing accuracy and validation accuracy"
      ],
      "metadata": {
        "id": "RsmkgWiZR1Xq"
      },
      "execution_count": 44,
      "outputs": []
    },
    {
      "cell_type": "code",
      "source": [
        "plt.plot(history.history['accuracy'])\n",
        "plt.plot(history.history['val_accuracy'])\n",
        "plt.title('Model accuracy')\n",
        "plt.ylabel('Accuracy')\n",
        "plt.xlabel('Epoch')\n",
        "plt.legend(['Train', 'Val'], loc='lower right')\n",
        "plt.show()"
      ],
      "metadata": {
        "colab": {
          "base_uri": "https://localhost:8080/",
          "height": 295
        },
        "id": "OYIo809dR8v2",
        "outputId": "96983a3c-30d5-4ec0-95b9-d00089802b14"
      },
      "execution_count": 45,
      "outputs": [
        {
          "output_type": "display_data",
          "data": {
            "text/plain": [
              "<Figure size 432x288 with 1 Axes>"
            ],
            "image/png": "[encoded data removed]"
          },
          "metadata": {
            "needs_background": "light"
          }
        }
      ]
    },
    {
      "cell_type": "markdown",
      "source": [
        "Since the improvements in model to the training set looks somewhat matched up with improvements to the validation set, it doesn’t seem like overfitting is a huge problem in model. I have used matplotlib to visualize the training and validation loss / accuracy over time to see if there’s overfitting in our model"
      ],
      "metadata": {
        "id": "XHCW5d2IUy20"
      }
    },
    {
      "cell_type": "markdown",
      "source": [
        "Adding Regularization\n",
        "\n",
        "Here, I’ve made a much larger model and I’ve used the Adam optimizer. Adam is one of the most common optimizers WE use, which adds some tweaks to stochastic gradient descent such that it reaches the lower loss function faster."
      ],
      "metadata": {
        "id": "mr6jpiBfU45u"
      }
    },
    {
      "cell_type": "code",
      "source": [
        "ann2 = Sequential([\n",
        "    Dense(1000, activation='relu'),\n",
        "    Dense(1000, activation='relu'),\n",
        "    Dense(1000, activation='relu'),\n",
        "    Dense(1000, activation='relu'),\n",
        "    Dense(1, activation='sigmoid'),\n",
        "])\n",
        "\n",
        "ann2.compile(optimizer='adam',\n",
        "              loss='binary_crossentropy',\n",
        "              metrics=['accuracy'])\n",
        "              \n",
        "history_2 = ann2.fit(X_train, Y_train,\n",
        "          batch_size=32, epochs=100,\n",
        "          validation_data=(X_val, Y_val))"
      ],
      "metadata": {
        "colab": {
          "base_uri": "https://localhost:8080/"
        },
        "id": "OxpY6ujaR_N3",
        "outputId": "3076a55e-bf23-419a-d213-1a1c5677c160"
      },
      "execution_count": null,
      "outputs": [
        {
          "output_type": "stream",
          "name": "stdout",
          "text": [
            "Epoch 1/100\n",
            "32/32 [==============================] - 2s 43ms/step - loss: 0.4743 - accuracy: 0.7701 - val_loss: 0.3709 - val_accuracy: 0.8584\n",
            "Epoch 2/100\n",
            "32/32 [==============================] - 1s 40ms/step - loss: 0.3413 - accuracy: 0.8630 - val_loss: 0.4261 - val_accuracy: 0.8037\n",
            "Epoch 3/100\n",
            "32/32 [==============================] - 1s 39ms/step - loss: 0.3172 - accuracy: 0.8748 - val_loss: 0.3226 - val_accuracy: 0.8676\n",
            "Epoch 4/100\n",
            "32/32 [==============================] - 1s 39ms/step - loss: 0.2869 - accuracy: 0.8845 - val_loss: 0.3334 - val_accuracy: 0.8630\n",
            "Epoch 5/100\n",
            "32/32 [==============================] - 1s 38ms/step - loss: 0.2685 - accuracy: 0.8924 - val_loss: 0.3141 - val_accuracy: 0.8767\n",
            "Epoch 6/100\n",
            "32/32 [==============================] - 1s 37ms/step - loss: 0.2550 - accuracy: 0.8933 - val_loss: 0.3155 - val_accuracy: 0.8584\n",
            "Epoch 7/100\n",
            "32/32 [==============================] - 1s 37ms/step - loss: 0.2506 - accuracy: 0.9041 - val_loss: 0.2776 - val_accuracy: 0.9041\n",
            "Epoch 8/100\n",
            "32/32 [==============================] - 1s 39ms/step - loss: 0.2457 - accuracy: 0.9031 - val_loss: 0.2981 - val_accuracy: 0.8813\n",
            "Epoch 9/100\n",
            "32/32 [==============================] - 1s 38ms/step - loss: 0.2372 - accuracy: 0.9051 - val_loss: 0.3210 - val_accuracy: 0.8584\n",
            "Epoch 10/100\n",
            "32/32 [==============================] - 1s 39ms/step - loss: 0.2318 - accuracy: 0.9119 - val_loss: 0.2884 - val_accuracy: 0.8813\n",
            "Epoch 11/100\n",
            "32/32 [==============================] - 1s 39ms/step - loss: 0.2187 - accuracy: 0.9119 - val_loss: 0.2835 - val_accuracy: 0.8950\n",
            "Epoch 12/100\n",
            "32/32 [==============================] - 1s 39ms/step - loss: 0.2115 - accuracy: 0.9188 - val_loss: 0.3467 - val_accuracy: 0.8767\n",
            "Epoch 13/100\n",
            "32/32 [==============================] - 1s 39ms/step - loss: 0.2321 - accuracy: 0.9100 - val_loss: 0.3522 - val_accuracy: 0.8539\n",
            "Epoch 14/100\n",
            "32/32 [==============================] - 1s 38ms/step - loss: 0.2178 - accuracy: 0.9090 - val_loss: 0.3727 - val_accuracy: 0.8493\n",
            "Epoch 15/100\n",
            "32/32 [==============================] - 1s 39ms/step - loss: 0.1993 - accuracy: 0.9178 - val_loss: 0.3262 - val_accuracy: 0.8858\n",
            "Epoch 16/100\n",
            "32/32 [==============================] - 1s 40ms/step - loss: 0.2112 - accuracy: 0.9100 - val_loss: 0.3224 - val_accuracy: 0.8676\n",
            "Epoch 17/100\n",
            "32/32 [==============================] - 1s 41ms/step - loss: 0.2116 - accuracy: 0.9227 - val_loss: 0.3217 - val_accuracy: 0.8813\n",
            "Epoch 18/100\n",
            "32/32 [==============================] - 2s 58ms/step - loss: 0.2128 - accuracy: 0.9051 - val_loss: 0.4610 - val_accuracy: 0.8265\n",
            "Epoch 19/100\n",
            "32/32 [==============================] - 1s 40ms/step - loss: 0.2040 - accuracy: 0.9198 - val_loss: 0.3081 - val_accuracy: 0.8813\n",
            "Epoch 20/100\n",
            "32/32 [==============================] - 1s 42ms/step - loss: 0.1898 - accuracy: 0.9266 - val_loss: 0.3764 - val_accuracy: 0.8447\n",
            "Epoch 21/100\n",
            "32/32 [==============================] - 2s 57ms/step - loss: 0.1884 - accuracy: 0.9217 - val_loss: 0.3502 - val_accuracy: 0.8995\n",
            "Epoch 22/100\n",
            "32/32 [==============================] - 2s 74ms/step - loss: 0.2055 - accuracy: 0.9198 - val_loss: 0.3036 - val_accuracy: 0.8813\n",
            "Epoch 23/100\n",
            "32/32 [==============================] - 2s 48ms/step - loss: 0.2040 - accuracy: 0.9217 - val_loss: 0.3929 - val_accuracy: 0.8493\n",
            "Epoch 24/100\n",
            "32/32 [==============================] - 1s 39ms/step - loss: 0.1835 - accuracy: 0.9198 - val_loss: 0.3321 - val_accuracy: 0.8676\n",
            "Epoch 25/100\n",
            "32/32 [==============================] - 1s 39ms/step - loss: 0.1897 - accuracy: 0.9110 - val_loss: 0.3827 - val_accuracy: 0.8630\n",
            "Epoch 26/100\n",
            "32/32 [==============================] - 1s 40ms/step - loss: 0.1791 - accuracy: 0.9207 - val_loss: 0.3496 - val_accuracy: 0.8630\n",
            "Epoch 27/100\n",
            "32/32 [==============================] - 1s 39ms/step - loss: 0.2047 - accuracy: 0.9080 - val_loss: 0.3459 - val_accuracy: 0.8813\n",
            "Epoch 28/100\n",
            "32/32 [==============================] - 1s 39ms/step - loss: 0.2089 - accuracy: 0.9110 - val_loss: 0.3287 - val_accuracy: 0.8950\n",
            "Epoch 29/100\n",
            "32/32 [==============================] - 1s 38ms/step - loss: 0.1944 - accuracy: 0.9217 - val_loss: 0.3451 - val_accuracy: 0.8630\n",
            "Epoch 30/100\n",
            "32/32 [==============================] - 1s 38ms/step - loss: 0.1869 - accuracy: 0.9168 - val_loss: 0.3711 - val_accuracy: 0.8584\n",
            "Epoch 31/100\n",
            "32/32 [==============================] - 1s 39ms/step - loss: 0.2114 - accuracy: 0.9139 - val_loss: 0.3196 - val_accuracy: 0.8767\n",
            "Epoch 32/100\n",
            "32/32 [==============================] - 1s 39ms/step - loss: 0.1872 - accuracy: 0.9207 - val_loss: 0.3841 - val_accuracy: 0.8539\n",
            "Epoch 33/100\n",
            "32/32 [==============================] - 1s 39ms/step - loss: 0.1668 - accuracy: 0.9295 - val_loss: 0.4872 - val_accuracy: 0.8813\n",
            "Epoch 34/100\n",
            "32/32 [==============================] - 1s 39ms/step - loss: 0.1963 - accuracy: 0.9149 - val_loss: 0.3973 - val_accuracy: 0.8904\n",
            "Epoch 35/100\n",
            "32/32 [==============================] - 1s 40ms/step - loss: 0.1873 - accuracy: 0.9276 - val_loss: 0.3560 - val_accuracy: 0.8539\n",
            "Epoch 36/100\n",
            "32/32 [==============================] - 1s 38ms/step - loss: 0.1746 - accuracy: 0.9139 - val_loss: 0.4649 - val_accuracy: 0.8037\n",
            "Epoch 37/100\n",
            "32/32 [==============================] - 1s 39ms/step - loss: 0.1589 - accuracy: 0.9315 - val_loss: 0.4170 - val_accuracy: 0.8858\n",
            "Epoch 38/100\n",
            "32/32 [==============================] - 1s 40ms/step - loss: 0.1931 - accuracy: 0.9149 - val_loss: 0.4237 - val_accuracy: 0.8584\n",
            "Epoch 39/100\n",
            "32/32 [==============================] - 1s 39ms/step - loss: 0.1611 - accuracy: 0.9266 - val_loss: 0.3490 - val_accuracy: 0.8858\n",
            "Epoch 40/100\n",
            "32/32 [==============================] - 1s 40ms/step - loss: 0.1688 - accuracy: 0.9315 - val_loss: 0.3745 - val_accuracy: 0.8493\n",
            "Epoch 41/100\n",
            "32/32 [==============================] - 1s 38ms/step - loss: 0.1741 - accuracy: 0.9295 - val_loss: 0.5307 - val_accuracy: 0.8813\n",
            "Epoch 42/100\n",
            "32/32 [==============================] - 1s 39ms/step - loss: 0.1900 - accuracy: 0.9178 - val_loss: 0.3584 - val_accuracy: 0.8630\n",
            "Epoch 43/100\n",
            "32/32 [==============================] - 1s 39ms/step - loss: 0.1561 - accuracy: 0.9315 - val_loss: 0.4413 - val_accuracy: 0.8904\n",
            "Epoch 44/100\n",
            "32/32 [==============================] - 1s 39ms/step - loss: 0.2179 - accuracy: 0.9110 - val_loss: 0.3478 - val_accuracy: 0.8813\n",
            "Epoch 45/100\n",
            "32/32 [==============================] - 1s 37ms/step - loss: 0.1860 - accuracy: 0.9178 - val_loss: 0.3608 - val_accuracy: 0.8630\n",
            "Epoch 46/100\n",
            "32/32 [==============================] - 1s 39ms/step - loss: 0.1623 - accuracy: 0.9335 - val_loss: 0.3784 - val_accuracy: 0.8858\n",
            "Epoch 47/100\n",
            "32/32 [==============================] - 1s 38ms/step - loss: 0.1465 - accuracy: 0.9315 - val_loss: 0.3851 - val_accuracy: 0.8858\n",
            "Epoch 48/100\n",
            "25/32 [======================>.......] - ETA: 0s - loss: 0.1507 - accuracy: 0.9337"
          ]
        }
      ]
    },
    {
      "cell_type": "code",
      "source": [
        "plt.plot(history_2.history['accuracy'])\n",
        "plt.plot(history_2.history['val_accuracy'])\n",
        "plt.title('Model accuracy')\n",
        "plt.ylabel('Accuracy')\n",
        "plt.xlabel('Epoch')\n",
        "plt.legend(['Train', 'Val'], loc='lower right')\n",
        "plt.show()"
      ],
      "metadata": {
        "id": "8s1lbaoASDep"
      },
      "execution_count": null,
      "outputs": []
    },
    {
      "cell_type": "markdown",
      "source": [
        "There are three technic to handle the overfitting.I have used L2 regularization and dropout layer here.The reason i don’t have add early stopping here is because after I’ve used the first two strategies, the validation loss doesn’t take the U-shape I see above and so early stopping will not be as effective"
      ],
      "metadata": {
        "id": "J03ifUB6UpdG"
      }
    },
    {
      "cell_type": "code",
      "source": [
        "from keras.layers import Dropout\n",
        "from keras import regularizers\n",
        "ann3 = Sequential([Dense(1000, activation='relu', kernel_regularizer=regularizers.l2(0.01), input_shape=(10,)),\n",
        "Dropout(0.3),Dense(1000, activation='relu', kernel_regularizer=regularizers.l2(0.01)),\n",
        "Dropout(0.3),\n",
        "Dense(1000, activation='relu', kernel_regularizer=regularizers.l2(0.01)),\n",
        "Dropout(0.3),\n",
        "Dense(1000, activation='relu', kernel_regularizer=regularizers.l2(0.01)),\n",
        "Dropout(0.3),\n",
        "Dense(1, activation='sigmoid', kernel_regularizer=regularizers.l2(0.01)),])\n",
        "ann3.compile(optimizer='adam',loss='binary_crossentropy',metrics=['accuracy'])\n",
        "hist_3 = ann3.fit(X_train, Y_train,batch_size=32, epochs=100,validation_data=(X_val, Y_val))"
      ],
      "metadata": {
        "id": "ixxOC1zSS63d"
      },
      "execution_count": null,
      "outputs": []
    },
    {
      "cell_type": "code",
      "source": [
        "#So,I have ploted the loss graphs. I have notice that the loss is a lot higher at the start, and that’s because i’ve changed my loss function.\n",
        "plt.plot(hist_3.history['loss'])\n",
        "plt.plot(hist_3.history['val_loss'])\n",
        "plt.title('Model loss')\n",
        "plt.ylabel('Loss')\n",
        "plt.xlabel('Epoch')\n",
        "plt.legend(['Train', 'Val'], loc='upper right')\n",
        "plt.ylim(top=1.2, bottom=0)\n",
        "plt.show()"
      ],
      "metadata": {
        "id": "TMDWnXJhTARo"
      },
      "execution_count": null,
      "outputs": []
    },
    {
      "cell_type": "code",
      "source": [
        "#I can see that the validation loss much more closely matches our training loss.\n",
        "plt.plot(hist_3.history['accuracy'])\n",
        "plt.plot(hist_3.history['val_accuracy'])\n",
        "plt.title('Model accuracy')\n",
        "plt.ylabel('Accuracy')\n",
        "plt.xlabel('Epoch')\n",
        "plt.legend(['Train', 'Val'], loc='lower right')\n",
        "plt.show()"
      ],
      "metadata": {
        "id": "ZjXLeK1ST6jk"
      },
      "execution_count": null,
      "outputs": []
    },
    {
      "cell_type": "code",
      "source": [],
      "metadata": {
        "id": "xqRlHLflT-Te"
      },
      "execution_count": null,
      "outputs": []
    }
  ]
}